{
 "cells": [
  {
   "cell_type": "markdown",
   "metadata": {},
   "source": [
    "# Correlation or Causation? #"
   ]
  },
  {
   "cell_type": "markdown",
   "metadata": {},
   "source": [
    "How do we determine if and how two variables (e.g., relative frequency of \"sur\" and \"glad\") are related. One classical solution is to compare their variance by asking is it the case that if the first variable change in one direction, does the second variable change in the same or opposite direction? A widely used measure of this similar or opposite variance is Pearson's correlation coefficient *r* (Pearson's *r*), which falls within the range -1 to 1, where *r* = 1 and *r* = -1 are the perfect correlation and anti-correlation respectively.\n",
    "\n",
    "But what does a correlation mean? We have all heard that *correlation is not causation*, because it is just an association between two variables. This association might be spurious and weak given the variables' domain."
   ]
  },
  {
   "cell_type": "code",
   "execution_count": null,
   "metadata": {},
   "outputs": [],
   "source": [
    "import os\n",
    "import pandas as pd\n",
    "\n",
    "# path to file (change last string for other file)\n",
    "PATH = os.path.join(\"..\",\"data\",\"smurf-2018-10-29_13_27.csv\")\n",
    "\n",
    "# import data as DataFrame\n",
    "df = pd.read_csv(PATH,skiprows=[0,1])"
   ]
  },
  {
   "cell_type": "code",
   "execution_count": null,
   "metadata": {},
   "outputs": [],
   "source": [
    "import numpy as np\n",
    "\n",
    "seeds = [\"sur\", \"glad\"]\n",
    "x = df.year.values\n",
    "w = df.total_articles.values.astype(\"float\")\n",
    "\n",
    "# raw article frequency\n",
    "y1 = df.sur.values.astype(\"float\")\n",
    "y2 = df.glad.values.astype(\"float\")\n",
    "\n",
    "# relative article frequency\n",
    "y1w = np.divide(y1, w, out=np.zeros_like(y1), where=w!=0)\n",
    "y2w = np.divide(y2, w, out=np.zeros_like(y2), where=w!=0)"
   ]
  },
  {
   "cell_type": "code",
   "execution_count": null,
   "metadata": {},
   "outputs": [],
   "source": [
    "import matplotlib.pyplot as plt\n",
    "import numpy as np\n",
    "\n",
    "fig, ax = plt.subplots(1, 2, figsize=(9,4), dpi=100)\n",
    "ax[0].plot(y1w,y2w,\"xg\")\n",
    "ax[0].set_xlabel(seeds[0])\n",
    "ax[0].set_ylabel(seeds[1])\n",
    "\n",
    "\n",
    "# linear fit data points (first degree polynomial)\n",
    "p = np.poly1d(np.polyfit(y1w,y2w,1))\n",
    "\n",
    "ax[1].plot(y1w,y2w,\"xg\", y1w, p(y1w),'r-',linewidth=3)\n",
    "ax[1].set_xlabel(seeds[0])\n",
    "\n",
    "\n",
    "plt.show()"
   ]
  },
  {
   "cell_type": "code",
   "execution_count": null,
   "metadata": {},
   "outputs": [],
   "source": [
    "from scipy.stats import pearsonr\n",
    "\n",
    "res_corr = pearsonr(y1w,y2w)\n",
    "\n",
    "print(\"Pearsons R = {}, p({}) = {}\".format(round(res_corr[0],2),len(y1w-2),round(res_corr[1],4)))"
   ]
  },
  {
   "cell_type": "code",
   "execution_count": null,
   "metadata": {},
   "outputs": [],
   "source": [
    "from statsmodels.tsa.stattools import grangercausalitytests\n",
    "\n",
    "def granger_cause(response, driver, mxlag = 1):\n",
    "    \"\"\"\n",
    "    test that driver granger causes response\n",
    "    - H0: driver DOES NOT granger cause response\n",
    "    - mxlag: maximum lag, function outputs one analysis for each lag\n",
    "    - NB: remember bidirectional testing for extraneous factors\n",
    "    \"\"\"\n",
    "    df = pd.DataFrame()\n",
    "    df['E'] = response\n",
    "    df['D'] = driver\n",
    "    data = np.asarray(df[['E', 'D']])\n",
    "    return grangercausalitytests(data, maxlag = mxlag, addconst = True, verbose = True)\n",
    "\n",
    "res_y2toy1 = granger_cause(y1w,y2w,mxlag = 3)\n",
    "print(\"*****\")\n",
    "res_y1toy2 = granger_cause(y2w,y1w,mxlag = 3)"
   ]
  }
 ],
 "metadata": {
  "kernelspec": {
   "display_name": "demo",
   "language": "python",
   "name": "demo"
  },
  "language_info": {
   "codemirror_mode": {
    "name": "ipython",
    "version": 3
   },
   "file_extension": ".py",
   "mimetype": "text/x-python",
   "name": "python",
   "nbconvert_exporter": "python",
   "pygments_lexer": "ipython3",
   "version": "3.5.2"
  }
 },
 "nbformat": 4,
 "nbformat_minor": 2
}
